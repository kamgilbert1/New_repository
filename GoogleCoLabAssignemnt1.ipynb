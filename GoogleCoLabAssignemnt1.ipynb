{
  "nbformat": 4,
  "nbformat_minor": 0,
  "metadata": {
    "colab": {
      "provenance": []
    },
    "kernelspec": {
      "name": "python3",
      "display_name": "Python 3"
    },
    "language_info": {
      "name": "python"
    }
  },
  "cells": [
    {
      "cell_type": "code",
      "execution_count": 4,
      "metadata": {
        "id": "TcPLuTYmO4A5"
      },
      "outputs": [],
      "source": [
        "import pandas as pd\n",
        "from google.colab import drive\n",
        "import matplotlib.pyplot as plt"
      ]
    },
    {
      "cell_type": "code",
      "source": [
        "drive.mount('/content/gdrive/', force_remount = True)"
      ],
      "metadata": {
        "colab": {
          "base_uri": "https://localhost:8080/"
        },
        "id": "6HhTvbRiO-AC",
        "outputId": "c0be4d9b-9d90-47cd-855f-d6279e45f8e2"
      },
      "execution_count": 3,
      "outputs": [
        {
          "output_type": "stream",
          "name": "stdout",
          "text": [
            "Mounted at /content/gdrive/\n"
          ]
        }
      ]
    },
    {
      "cell_type": "code",
      "source": [
        "df= pd.read_csv(\"/content/gdrive/MyDrive/New_Folder/Gapminder Data 4.csv\")"
      ],
      "metadata": {
        "id": "QHPYcAs6P1bW"
      },
      "execution_count": 5,
      "outputs": []
    },
    {
      "cell_type": "code",
      "source": [
        "df"
      ],
      "metadata": {
        "colab": {
          "base_uri": "https://localhost:8080/",
          "height": 424
        },
        "id": "d2ozXKfEQbcV",
        "outputId": "125b804b-19cd-4295-aeaf-71fee57e03f1"
      },
      "execution_count": 6,
      "outputs": [
        {
          "output_type": "execute_result",
          "data": {
            "text/plain": [
              "             country  year  income    hdi  liberties  workhours  taxrev  \\\n",
              "0          Argentina  1990   10800  0.705          3       41.7    5.01   \n",
              "1          Australia  1990   28600  0.866          1       35.6   22.30   \n",
              "2              Chile  1990    8990  0.700          2       45.2   15.20   \n",
              "3         Costa Rica  1990    7790  0.653          1       45.6   10.60   \n",
              "4              Ghana  1990    1920  0.455          6       33.9   13.20   \n",
              "...              ...   ...     ...    ...        ...        ...     ...   \n",
              "1242     Timor-Leste  2015    2150  0.606          3       30.4   15.00   \n",
              "1243          Turkey  2015   23400  0.767          5       46.4   18.30   \n",
              "1244         Ukraine  2015    7470  0.743          3       39.0   19.60   \n",
              "1245  United Kingdom  2015   38500  0.910          1       36.0   25.10   \n",
              "1246   United States  2015   52800  0.920          1       36.7   10.90   \n",
              "\n",
              "      industry  exports  \n",
              "0         32.7     7.68  \n",
              "1         27.7    16.00  \n",
              "2         37.4    31.30  \n",
              "3         27.4    33.40  \n",
              "4         17.0    17.00  \n",
              "...        ...      ...  \n",
              "1242      19.1     3.14  \n",
              "1243      28.1    23.10  \n",
              "1244      23.2    49.30  \n",
              "1245      17.6    28.20  \n",
              "1246      18.0    11.90  \n",
              "\n",
              "[1247 rows x 9 columns]"
            ],
            "text/html": [
              "\n",
              "  <div id=\"df-a6d9b13e-99a5-4a21-8cf7-dc4b7fd79408\">\n",
              "    <div class=\"colab-df-container\">\n",
              "      <div>\n",
              "<style scoped>\n",
              "    .dataframe tbody tr th:only-of-type {\n",
              "        vertical-align: middle;\n",
              "    }\n",
              "\n",
              "    .dataframe tbody tr th {\n",
              "        vertical-align: top;\n",
              "    }\n",
              "\n",
              "    .dataframe thead th {\n",
              "        text-align: right;\n",
              "    }\n",
              "</style>\n",
              "<table border=\"1\" class=\"dataframe\">\n",
              "  <thead>\n",
              "    <tr style=\"text-align: right;\">\n",
              "      <th></th>\n",
              "      <th>country</th>\n",
              "      <th>year</th>\n",
              "      <th>income</th>\n",
              "      <th>hdi</th>\n",
              "      <th>liberties</th>\n",
              "      <th>workhours</th>\n",
              "      <th>taxrev</th>\n",
              "      <th>industry</th>\n",
              "      <th>exports</th>\n",
              "    </tr>\n",
              "  </thead>\n",
              "  <tbody>\n",
              "    <tr>\n",
              "      <th>0</th>\n",
              "      <td>Argentina</td>\n",
              "      <td>1990</td>\n",
              "      <td>10800</td>\n",
              "      <td>0.705</td>\n",
              "      <td>3</td>\n",
              "      <td>41.7</td>\n",
              "      <td>5.01</td>\n",
              "      <td>32.7</td>\n",
              "      <td>7.68</td>\n",
              "    </tr>\n",
              "    <tr>\n",
              "      <th>1</th>\n",
              "      <td>Australia</td>\n",
              "      <td>1990</td>\n",
              "      <td>28600</td>\n",
              "      <td>0.866</td>\n",
              "      <td>1</td>\n",
              "      <td>35.6</td>\n",
              "      <td>22.30</td>\n",
              "      <td>27.7</td>\n",
              "      <td>16.00</td>\n",
              "    </tr>\n",
              "    <tr>\n",
              "      <th>2</th>\n",
              "      <td>Chile</td>\n",
              "      <td>1990</td>\n",
              "      <td>8990</td>\n",
              "      <td>0.700</td>\n",
              "      <td>2</td>\n",
              "      <td>45.2</td>\n",
              "      <td>15.20</td>\n",
              "      <td>37.4</td>\n",
              "      <td>31.30</td>\n",
              "    </tr>\n",
              "    <tr>\n",
              "      <th>3</th>\n",
              "      <td>Costa Rica</td>\n",
              "      <td>1990</td>\n",
              "      <td>7790</td>\n",
              "      <td>0.653</td>\n",
              "      <td>1</td>\n",
              "      <td>45.6</td>\n",
              "      <td>10.60</td>\n",
              "      <td>27.4</td>\n",
              "      <td>33.40</td>\n",
              "    </tr>\n",
              "    <tr>\n",
              "      <th>4</th>\n",
              "      <td>Ghana</td>\n",
              "      <td>1990</td>\n",
              "      <td>1920</td>\n",
              "      <td>0.455</td>\n",
              "      <td>6</td>\n",
              "      <td>33.9</td>\n",
              "      <td>13.20</td>\n",
              "      <td>17.0</td>\n",
              "      <td>17.00</td>\n",
              "    </tr>\n",
              "    <tr>\n",
              "      <th>...</th>\n",
              "      <td>...</td>\n",
              "      <td>...</td>\n",
              "      <td>...</td>\n",
              "      <td>...</td>\n",
              "      <td>...</td>\n",
              "      <td>...</td>\n",
              "      <td>...</td>\n",
              "      <td>...</td>\n",
              "      <td>...</td>\n",
              "    </tr>\n",
              "    <tr>\n",
              "      <th>1242</th>\n",
              "      <td>Timor-Leste</td>\n",
              "      <td>2015</td>\n",
              "      <td>2150</td>\n",
              "      <td>0.606</td>\n",
              "      <td>3</td>\n",
              "      <td>30.4</td>\n",
              "      <td>15.00</td>\n",
              "      <td>19.1</td>\n",
              "      <td>3.14</td>\n",
              "    </tr>\n",
              "    <tr>\n",
              "      <th>1243</th>\n",
              "      <td>Turkey</td>\n",
              "      <td>2015</td>\n",
              "      <td>23400</td>\n",
              "      <td>0.767</td>\n",
              "      <td>5</td>\n",
              "      <td>46.4</td>\n",
              "      <td>18.30</td>\n",
              "      <td>28.1</td>\n",
              "      <td>23.10</td>\n",
              "    </tr>\n",
              "    <tr>\n",
              "      <th>1244</th>\n",
              "      <td>Ukraine</td>\n",
              "      <td>2015</td>\n",
              "      <td>7470</td>\n",
              "      <td>0.743</td>\n",
              "      <td>3</td>\n",
              "      <td>39.0</td>\n",
              "      <td>19.60</td>\n",
              "      <td>23.2</td>\n",
              "      <td>49.30</td>\n",
              "    </tr>\n",
              "    <tr>\n",
              "      <th>1245</th>\n",
              "      <td>United Kingdom</td>\n",
              "      <td>2015</td>\n",
              "      <td>38500</td>\n",
              "      <td>0.910</td>\n",
              "      <td>1</td>\n",
              "      <td>36.0</td>\n",
              "      <td>25.10</td>\n",
              "      <td>17.6</td>\n",
              "      <td>28.20</td>\n",
              "    </tr>\n",
              "    <tr>\n",
              "      <th>1246</th>\n",
              "      <td>United States</td>\n",
              "      <td>2015</td>\n",
              "      <td>52800</td>\n",
              "      <td>0.920</td>\n",
              "      <td>1</td>\n",
              "      <td>36.7</td>\n",
              "      <td>10.90</td>\n",
              "      <td>18.0</td>\n",
              "      <td>11.90</td>\n",
              "    </tr>\n",
              "  </tbody>\n",
              "</table>\n",
              "<p>1247 rows × 9 columns</p>\n",
              "</div>\n",
              "      <button class=\"colab-df-convert\" onclick=\"convertToInteractive('df-a6d9b13e-99a5-4a21-8cf7-dc4b7fd79408')\"\n",
              "              title=\"Convert this dataframe to an interactive table.\"\n",
              "              style=\"display:none;\">\n",
              "        \n",
              "  <svg xmlns=\"http://www.w3.org/2000/svg\" height=\"24px\"viewBox=\"0 0 24 24\"\n",
              "       width=\"24px\">\n",
              "    <path d=\"M0 0h24v24H0V0z\" fill=\"none\"/>\n",
              "    <path d=\"M18.56 5.44l.94 2.06.94-2.06 2.06-.94-2.06-.94-.94-2.06-.94 2.06-2.06.94zm-11 1L8.5 8.5l.94-2.06 2.06-.94-2.06-.94L8.5 2.5l-.94 2.06-2.06.94zm10 10l.94 2.06.94-2.06 2.06-.94-2.06-.94-.94-2.06-.94 2.06-2.06.94z\"/><path d=\"M17.41 7.96l-1.37-1.37c-.4-.4-.92-.59-1.43-.59-.52 0-1.04.2-1.43.59L10.3 9.45l-7.72 7.72c-.78.78-.78 2.05 0 2.83L4 21.41c.39.39.9.59 1.41.59.51 0 1.02-.2 1.41-.59l7.78-7.78 2.81-2.81c.8-.78.8-2.07 0-2.86zM5.41 20L4 18.59l7.72-7.72 1.47 1.35L5.41 20z\"/>\n",
              "  </svg>\n",
              "      </button>\n",
              "      \n",
              "  <style>\n",
              "    .colab-df-container {\n",
              "      display:flex;\n",
              "      flex-wrap:wrap;\n",
              "      gap: 12px;\n",
              "    }\n",
              "\n",
              "    .colab-df-convert {\n",
              "      background-color: #E8F0FE;\n",
              "      border: none;\n",
              "      border-radius: 50%;\n",
              "      cursor: pointer;\n",
              "      display: none;\n",
              "      fill: #1967D2;\n",
              "      height: 32px;\n",
              "      padding: 0 0 0 0;\n",
              "      width: 32px;\n",
              "    }\n",
              "\n",
              "    .colab-df-convert:hover {\n",
              "      background-color: #E2EBFA;\n",
              "      box-shadow: 0px 1px 2px rgba(60, 64, 67, 0.3), 0px 1px 3px 1px rgba(60, 64, 67, 0.15);\n",
              "      fill: #174EA6;\n",
              "    }\n",
              "\n",
              "    [theme=dark] .colab-df-convert {\n",
              "      background-color: #3B4455;\n",
              "      fill: #D2E3FC;\n",
              "    }\n",
              "\n",
              "    [theme=dark] .colab-df-convert:hover {\n",
              "      background-color: #434B5C;\n",
              "      box-shadow: 0px 1px 3px 1px rgba(0, 0, 0, 0.15);\n",
              "      filter: drop-shadow(0px 1px 2px rgba(0, 0, 0, 0.3));\n",
              "      fill: #FFFFFF;\n",
              "    }\n",
              "  </style>\n",
              "\n",
              "      <script>\n",
              "        const buttonEl =\n",
              "          document.querySelector('#df-a6d9b13e-99a5-4a21-8cf7-dc4b7fd79408 button.colab-df-convert');\n",
              "        buttonEl.style.display =\n",
              "          google.colab.kernel.accessAllowed ? 'block' : 'none';\n",
              "\n",
              "        async function convertToInteractive(key) {\n",
              "          const element = document.querySelector('#df-a6d9b13e-99a5-4a21-8cf7-dc4b7fd79408');\n",
              "          const dataTable =\n",
              "            await google.colab.kernel.invokeFunction('convertToInteractive',\n",
              "                                                     [key], {});\n",
              "          if (!dataTable) return;\n",
              "\n",
              "          const docLinkHtml = 'Like what you see? Visit the ' +\n",
              "            '<a target=\"_blank\" href=https://colab.research.google.com/notebooks/data_table.ipynb>data table notebook</a>'\n",
              "            + ' to learn more about interactive tables.';\n",
              "          element.innerHTML = '';\n",
              "          dataTable['output_type'] = 'display_data';\n",
              "          await google.colab.output.renderOutput(dataTable, element);\n",
              "          const docLink = document.createElement('div');\n",
              "          docLink.innerHTML = docLinkHtml;\n",
              "          element.appendChild(docLink);\n",
              "        }\n",
              "      </script>\n",
              "    </div>\n",
              "  </div>\n",
              "  "
            ]
          },
          "metadata": {},
          "execution_count": 6
        }
      ]
    },
    {
      "cell_type": "code",
      "source": [
        "df.set_index(\"year\", inplace = True)"
      ],
      "metadata": {
        "id": "R4b58ogSQ5Va"
      },
      "execution_count": 9,
      "outputs": []
    },
    {
      "cell_type": "code",
      "source": [
        "df_new= df.copy()\n",
        "df_new= df_new[df_new['country']=='Ukraine']"
      ],
      "metadata": {
        "id": "x0sfXQ9QR1pg"
      },
      "execution_count": 17,
      "outputs": []
    },
    {
      "cell_type": "code",
      "source": [
        "plt.plot(df_new[\"income\"])\n",
        "plt.title(\"Ukraine Income average Over time\")\n",
        "plt.xlabel('Year')\n",
        "plt.ylabel('Amount in USD $')\n",
        "plt.grid()\n",
        "plt.show()"
      ],
      "metadata": {
        "colab": {
          "base_uri": "https://localhost:8080/",
          "height": 295
        },
        "id": "zz3QFTcCQq5H",
        "outputId": "fc6b6d53-7e2b-4820-eb86-2f61d99da5a3"
      },
      "execution_count": 18,
      "outputs": [
        {
          "output_type": "display_data",
          "data": {
            "text/plain": [
              "<Figure size 432x288 with 1 Axes>"
            ],
            "image/png": "[encoded data removed]"
          },
          "metadata": {
            "needs_background": "light"
          }
        }
      ]
    },
    {
      "cell_type": "code",
      "source": [
        "print('Here we see that there is a high starting point in 2008, a sudden dip in 2009, recovery by 2011 that is sustained generally by 2014, and finished with a large dip in 2015')"
      ],
      "metadata": {
        "colab": {
          "base_uri": "https://localhost:8080/"
        },
        "id": "RbtcXd-JTvVE",
        "outputId": "30acf2fe-61e8-4447-f3c8-dd7edc7c0cfc"
      },
      "execution_count": 19,
      "outputs": [
        {
          "output_type": "stream",
          "name": "stdout",
          "text": [
            "Here we see that there is a high starting point in 2008, a sudden dip in 2009, recovery by 2011 that is sustained generally by 2014, and finished with a large dip in 2015\n"
          ]
        }
      ]
    }
  ]
}